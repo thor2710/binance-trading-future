{
 "cells": [
  {
   "cell_type": "code",
   "execution_count": 2,
   "id": "40355468",
   "metadata": {},
   "outputs": [
    {
     "name": "stdout",
     "output_type": "stream",
     "text": [
      "0.06935800\n"
     ]
    }
   ],
   "source": [
    "import json, config\n",
    "from flask import Flask, request, jsonify, render_template\n",
    "from binance.client import Client\n",
    "from binance.enums import *\n",
    "from jinja2 import Environment, FileSystemLoader\n",
    "import requests\n",
    "import time\n",
    "import datetime\n",
    "\n",
    "client = Client(config.API_KEY, config.API_SECRET)\n",
    "\n",
    "# account = client.get_account_snapshot(['SPOT'])\n",
    "\n",
    "ticker_price = client.get_symbol_ticker(symbol='ETHBTC')['price']\n",
    "\n",
    "print(ticker_price)"
   ]
  },
  {
   "cell_type": "code",
   "execution_count": 4,
   "id": "7ce472ea",
   "metadata": {},
   "outputs": [
    {
     "data": {
      "text/plain": [
       "'0.06935800'"
      ]
     },
     "execution_count": 4,
     "metadata": {},
     "output_type": "execute_result"
    }
   ],
   "source": [
    "ticker_price = client.get_symbol_ticker(symbol='ETHBTC')['price']\n",
    "ticker_price"
   ]
  },
  {
   "cell_type": "code",
   "execution_count": 5,
   "id": "6e6dc6d3",
   "metadata": {},
   "outputs": [],
   "source": [
    "BTC_asset_balance = client.get_asset_balance(asset='BTC')['free']\n",
    "ETH_asset_balance = client.get_asset_balance(asset='ETH')['free']"
   ]
  },
  {
   "cell_type": "code",
   "execution_count": null,
   "id": "f3f0bd6d",
   "metadata": {},
   "outputs": [],
   "source": [
    "fake_ETH_BALANCE = "
   ]
  },
  {
   "cell_type": "code",
   "execution_count": 6,
   "id": "975ce7d4",
   "metadata": {},
   "outputs": [
    {
     "data": {
      "text/plain": [
       "'0.00000000'"
      ]
     },
     "execution_count": 6,
     "metadata": {},
     "output_type": "execute_result"
    }
   ],
   "source": [
    "BTC_asset_balance"
   ]
  },
  {
   "cell_type": "code",
   "execution_count": 7,
   "id": "f7219de0",
   "metadata": {},
   "outputs": [
    {
     "data": {
      "text/plain": [
       "'0.00000000'"
      ]
     },
     "execution_count": 7,
     "metadata": {},
     "output_type": "execute_result"
    }
   ],
   "source": [
    "ETH_asset_balance"
   ]
  },
  {
   "cell_type": "code",
   "execution_count": null,
   "id": "d58ccc32",
   "metadata": {},
   "outputs": [],
   "source": []
  }
 ],
 "metadata": {
  "kernelspec": {
   "display_name": "Python 3 (ipykernel)",
   "language": "python",
   "name": "python3"
  },
  "language_info": {
   "codemirror_mode": {
    "name": "ipython",
    "version": 3
   },
   "file_extension": ".py",
   "mimetype": "text/x-python",
   "name": "python",
   "nbconvert_exporter": "python",
   "pygments_lexer": "ipython3",
   "version": "3.9.7"
  }
 },
 "nbformat": 4,
 "nbformat_minor": 5
}
